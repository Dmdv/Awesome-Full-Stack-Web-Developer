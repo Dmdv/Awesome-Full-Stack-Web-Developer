{
 "cells": [
  {
   "cell_type": "markdown",
   "metadata": {
    "button": false,
    "deletable": true,
    "new_sheet": false,
    "run_control": {
     "read_only": false
    }
   },
   "source": [
    "# Problem Solving with Algorithms and Data Structures using Python"
   ]
  },
  {
   "cell_type": "markdown",
   "metadata": {
    "button": false,
    "deletable": true,
    "new_sheet": false,
    "run_control": {
     "read_only": false
    }
   },
   "source": [
    "[url](https://interactivepython.org/runestone/static/pythonds/index.html)"
   ]
  },
  {
   "cell_type": "markdown",
   "metadata": {
    "button": false,
    "deletable": true,
    "new_sheet": false,
    "run_control": {
     "read_only": false
    }
   },
   "source": [
    "## 1.8. Getting Started with Data"
   ]
  },
  {
   "cell_type": "code",
   "execution_count": null,
   "metadata": {
    "button": false,
    "collapsed": false,
    "deletable": true,
    "new_sheet": false,
    "run_control": {
     "read_only": false
    }
   },
   "outputs": [],
   "source": [
    "print(2 ** 10)\n",
    "print(2** 100)\n",
    "print(7//3)\n",
    "print(7/3)\n",
    "print(7%3)"
   ]
  },
  {
   "cell_type": "markdown",
   "metadata": {
    "button": false,
    "deletable": true,
    "new_sheet": false,
    "run_control": {
     "read_only": false
    }
   },
   "source": [
    "### 1.8.2. Built-in Collection Data Types"
   ]
  },
  {
   "cell_type": "markdown",
   "metadata": {
    "button": false,
    "deletable": true,
    "new_sheet": false,
    "run_control": {
     "read_only": false
    }
   },
   "source": [
    "### 1. lists"
   ]
  },
  {
   "cell_type": "markdown",
   "metadata": {
    "button": false,
    "deletable": true,
    "new_sheet": false,
    "run_control": {
     "read_only": false
    }
   },
   "source": [
    "** Lists are heterogeneous, meaning that the data objects need not all be from the same class and the collection can be assigned to a variable as below. **"
   ]
  },
  {
   "cell_type": "markdown",
   "metadata": {
    "button": false,
    "deletable": true,
    "new_sheet": false,
    "run_control": {
     "read_only": false
    }
   },
   "source": [
    "| **Operation Name** | **Operator** | **Explanation** |\n",
    "| --- | --- | --- |\n",
    "| indexing | [ ] | Access an element of a sequence |\n",
    "| concatenation | + | Combine sequences together |\n",
    "| repetition | * | Concatenate a repeated number of times |\n",
    "| membership | in | Ask whether an item is in a sequence |\n",
    "| length | len | Ask the number of items in the sequence |\n",
    "| slicing | [ : ] | Extract a part of a sequence |"
   ]
  },
  {
   "cell_type": "code",
   "execution_count": null,
   "metadata": {
    "button": false,
    "collapsed": false,
    "deletable": true,
    "new_sheet": false,
    "run_control": {
     "read_only": false
    }
   },
   "outputs": [],
   "source": [
    "fakeList = ['str', 12, True, 1.232] # heterogeneous\n",
    "print(fakeList)\n",
    "myList = [1,2,3,4]\n",
    "A = [myList]*3\n",
    "print(A)\n",
    "myList[2]=45454545\n",
    "print(A)"
   ]
  },
  {
   "cell_type": "markdown",
   "metadata": {
    "button": false,
    "deletable": true,
    "new_sheet": false,
    "run_control": {
     "read_only": false
    }
   },
   "source": [
    "| **Method Name** | **Use** | **Explanation** |\n",
    "| --- | --- | --- |\n",
    "| ` append ` | ` alist.append(item) ` | Adds a new item to the end of a list |\n",
    "| ` insert ` | ` alist.insert(i,item) ` | Inserts an item at the ith position in a list |\n",
    "| ` pop ` | ` alist.pop() ` | Removes and returns the last item in a list |\n",
    "| ` pop ` | ` alist.pop(i) ` | Removes and returns the ith item in a list |\n",
    "| ` sort ` | ` alist.sort() ` | Modifies a list to be sorted |\n",
    "| ` reverse ` | ` alist.reverse() ` | Modifies a list to be in reverse order |\n",
    "| ` del ` | ` del alist[i] ` | Deletes the item in the ith position |\n",
    "| ` index ` | ` alist.index(item) ` | Returns the index of the first occurrence of ` item ` |\n",
    "| ` count ` | ` alist.count(item) ` | Returns the number of occurrences of ` item ` |\n",
    "| ` remove ` | ` alist.remove(item) ` | Removes the first occurrence of ` item ` |"
   ]
  },
  {
   "cell_type": "code",
   "execution_count": null,
   "metadata": {
    "button": false,
    "collapsed": false,
    "deletable": true,
    "new_sheet": false,
    "run_control": {
     "read_only": false
    }
   },
   "outputs": [],
   "source": [
    "myList = [1024, 3, True, 6.5]\n",
    "myList.append(False)\n",
    "print(myList)\n",
    "myList.insert(2,4.5)\n",
    "print(myList)\n",
    "print(myList.pop())\n",
    "print(myList)\n",
    "print(myList.pop(1))\n",
    "print(myList)\n",
    "myList.pop(2)\n",
    "print(myList)\n",
    "myList.sort()\n",
    "print(myList)\n",
    "myList.reverse()\n",
    "print(myList)\n",
    "print(myList.count(6.5))\n",
    "print(myList.index(4.5))\n",
    "myList.remove(6.5)\n",
    "print(myList)\n",
    "del myList[0]\n",
    "print(myList)"
   ]
  },
  {
   "cell_type": "code",
   "execution_count": null,
   "metadata": {
    "button": false,
    "collapsed": false,
    "deletable": true,
    "new_sheet": false,
    "run_control": {
     "read_only": false
    }
   },
   "outputs": [],
   "source": [
    "print(list(range(10)))\n",
    "print(list(range(5,10)))\n",
    "print(list(range(5,10,2)))\n",
    "print(list(range(10,1,-1)))"
   ]
  },
  {
   "cell_type": "markdown",
   "metadata": {
    "button": false,
    "deletable": true,
    "new_sheet": false,
    "run_control": {
     "read_only": false
    }
   },
   "source": [
    "### 2. Strings"
   ]
  },
  {
   "cell_type": "markdown",
   "metadata": {
    "button": false,
    "deletable": true,
    "new_sheet": false,
    "run_control": {
     "read_only": false
    }
   },
   "source": [
    "| **Method Name** | **Use** | **Explanation** |\n",
    "| --- | --- | --- |\n",
    "| `  center  ` | `  astring.center(w)  ` | Returns a string centered in a field of size `  w  ` |\n",
    "| `  count  ` | `  astring.count(item)  ` | Returns the number of occurrences of `  item  ` in the string |\n",
    "| `  ljust  ` | `  astring.ljust(w)  ` | Returns a string left-justified in a field of size `  w  ` |\n",
    "| `  lower  ` | `  astring.lower()  ` | Returns a string in all lowercase |\n",
    "| `  rjust  ` | `  astring.rjust(w)  ` | Returns a string right-justified in a field of size `  w  ` |\n",
    "| `  find  ` | `  astring.find(item)  ` | Returns the index of the first occurrence of `  item  ` |\n",
    "| `  split  ` | `  astring.split(schar)  ` | Splits a string into substrings at `  schar  ` |"
   ]
  },
  {
   "cell_type": "code",
   "execution_count": null,
   "metadata": {
    "button": false,
    "collapsed": false,
    "deletable": true,
    "new_sheet": false,
    "run_control": {
     "read_only": false
    }
   },
   "outputs": [],
   "source": [
    "myName= \"David\"\n",
    "print(myName[3])\n",
    "print(myName*2)\n",
    "print(len(myName))\n",
    "print(myName.upper())\n",
    "print('.' + myName.center(10) + '.')\n",
    "print('.' + myName.ljust(10) + '.')\n",
    "print('.' + myName.rjust(10) + '.')\n",
    "print(myName.find('v'))\n",
    "print(myName.split('v'))"
   ]
  },
  {
   "cell_type": "markdown",
   "metadata": {
    "button": false,
    "deletable": true,
    "new_sheet": false,
    "run_control": {
     "read_only": false
    }
   },
   "source": [
    " ** A major difference between lists and strings is that lists can be modified while strings cannot. This is referred to as mutability. Lists are mutable; strings are immutable. For example, you can change an item in a list by using indexing and assignment. With a string that change is not allowed. **"
   ]
  },
  {
   "cell_type": "markdown",
   "metadata": {
    "button": false,
    "deletable": true,
    "new_sheet": false,
    "run_control": {
     "read_only": false
    }
   },
   "source": [
    "### 3. Tuples"
   ]
  },
  {
   "cell_type": "markdown",
   "metadata": {
    "button": false,
    "deletable": true,
    "new_sheet": false,
    "run_control": {
     "read_only": false
    }
   },
   "source": [
    "** Tuples are very similar to lists in that they are heterogeneous sequences of data. The difference is that a tuple is immutable, like a string. A tuple cannot be changed.  **"
   ]
  },
  {
   "cell_type": "code",
   "execution_count": null,
   "metadata": {
    "button": false,
    "collapsed": false,
    "deletable": true,
    "new_sheet": false,
    "run_control": {
     "read_only": false
    }
   },
   "outputs": [],
   "source": [
    "myTuple = (2,True,4.96)\n",
    "print(myTuple)\n",
    "print(len(myTuple))"
   ]
  },
  {
   "cell_type": "markdown",
   "metadata": {
    "button": false,
    "deletable": true,
    "new_sheet": false,
    "run_control": {
     "read_only": false
    }
   },
   "source": [
    "**However, if you try to change an item in a tuple, you will get an error. Note that the error message provides location and reason for the problem.**"
   ]
  },
  {
   "cell_type": "code",
   "execution_count": null,
   "metadata": {
    "button": false,
    "collapsed": false,
    "deletable": true,
    "new_sheet": false,
    "run_control": {
     "read_only": false
    }
   },
   "outputs": [],
   "source": [
    "myTuple[1]=False"
   ]
  },
  {
   "cell_type": "markdown",
   "metadata": {
    "button": false,
    "deletable": true,
    "new_sheet": false,
    "run_control": {
     "read_only": false
    }
   },
   "source": [
    "### 4. Set"
   ]
  },
  {
   "cell_type": "markdown",
   "metadata": {
    "button": false,
    "deletable": true,
    "new_sheet": false,
    "run_control": {
     "read_only": false
    }
   },
   "source": [
    "**A set is an unordered collection of zero or more immutable Python data objects. Sets do not allow duplicates and are written as comma-delimited values enclosed in curly braces. The empty set is represented by set(). Sets are heterogeneous, and the collection can be assigned to a variable as below.**"
   ]
  },
  {
   "cell_type": "code",
   "execution_count": null,
   "metadata": {
    "button": false,
    "collapsed": false,
    "deletable": true,
    "new_sheet": false,
    "run_control": {
     "read_only": false
    }
   },
   "outputs": [],
   "source": [
    "print({3,6,\"cat\",4.5,False})\n",
    "mySet = {3,6,\"cat\",4.5,False}\n",
    "print(mySet)"
   ]
  },
  {
   "cell_type": "markdown",
   "metadata": {
    "button": false,
    "deletable": true,
    "new_sheet": false,
    "run_control": {
     "read_only": false
    }
   },
   "source": [
    "| **Operation Name** | **Operator** | **Explanation** |\n",
    "| --- | --- | --- |\n",
    "| membership | in | Set membership |\n",
    "| length | len | Returns the cardinality of the set |\n",
    "| &#124; | aset &#124; otherset | Returns a new set with all elements from both sets |\n",
    "| ` & ` | ` aset & otherset ` | Returns a new set with only those elements common to both sets |\n",
    "| ` - ` | ` aset - otherset ` | Returns a new set with all items from the first set not in second |\n",
    "| ` <= ` | ` aset <= otherset ` | Asks whether all elements of the first set are in the second |"
   ]
  },
  {
   "cell_type": "markdown",
   "metadata": {
    "button": false,
    "deletable": true,
    "new_sheet": false,
    "run_control": {
     "read_only": false
    }
   },
   "source": [
    "| **Method Name** | **Use** | **Explanation** |\n",
    "| --- | --- | --- |\n",
    "| ` union ` | ` aset.union(otherset) ` | Returns a new set with all elements from both sets |\n",
    "| ` intersection ` | ` aset.intersection(otherset) ` | Returns a new set with only those elements common to both sets |\n",
    "| ` difference ` | ` aset.difference(otherset) ` | Returns a new set with all items from first set not in second |\n",
    "| ` issubset ` | ` aset.issubset(otherset) ` | Asks whether all elements of one set are in the other |\n",
    "| ` add ` | ` aset.add(item) ` | Adds item to the set |\n",
    "| ` remove ` | ` aset.remove(item) ` | Removes item from the set |\n",
    "| ` pop ` | ` aset.pop() ` | Removes an arbitrary element from the set |\n",
    "| ` clear ` | ` aset.clear() ` | Removes all elements from the set |"
   ]
  },
  {
   "cell_type": "code",
   "execution_count": null,
   "metadata": {
    "button": false,
    "collapsed": false,
    "deletable": true,
    "new_sheet": false,
    "run_control": {
     "read_only": false
    }
   },
   "outputs": [],
   "source": [
    "mySet = {3,6,\"cat\",4.5,False}\n",
    "print(mySet)\n",
    "yourSet = {99,3,100}\n",
    "print(yourSet)\n",
    "\n",
    "print( mySet.union(yourSet))\n",
    "print( mySet | yourSet)\n",
    "\n",
    "print( mySet.intersection(yourSet))\n",
    "print( mySet & yourSet)\n",
    "\n",
    "print( mySet.difference(yourSet))\n",
    "print( mySet - yourSet)\n",
    "\n",
    "print( {3,100}.issubset(yourSet))\n",
    "print( {3,100}<=yourSet)\n",
    "\n",
    "mySet.add(\"house\")\n",
    "print( mySet)\n",
    "\n",
    "mySet.remove(4.5)\n",
    "print( mySet)\n",
    "\n",
    "mySet.pop()\n",
    "print( mySet)\n",
    "\n",
    "mySet.clear()\n",
    "print( mySet)"
   ]
  },
  {
   "cell_type": "markdown",
   "metadata": {
    "button": false,
    "deletable": true,
    "new_sheet": false,
    "run_control": {
     "read_only": false
    }
   },
   "source": [
    "### 5. Dictionary"
   ]
  },
  {
   "cell_type": "markdown",
   "metadata": {
    "button": false,
    "deletable": true,
    "new_sheet": false,
    "run_control": {
     "read_only": false
    }
   },
   "source": [
    "**Dictionaries are collections of associated pairs of items where each pair consists of a key and a value. This key-value pair is typically written as key:value. Dictionaries are written as comma-delimited key:value pairs enclosed in curly braces. For example,**"
   ]
  },
  {
   "cell_type": "code",
   "execution_count": null,
   "metadata": {
    "button": false,
    "collapsed": false,
    "deletable": true,
    "new_sheet": false,
    "run_control": {
     "read_only": false
    }
   },
   "outputs": [],
   "source": [
    "capitals = {'Iowa':'DesMoines','Wisconsin':'Madison'}\n",
    "print(capitals)\n",
    "print(capitals['Iowa'])\n",
    "capitals['Utah']='SaltLakeCity'\n",
    "print(capitals)\n",
    "capitals['California']='Sacramento'\n",
    "print(len(capitals))\n",
    "for k in capitals:\n",
    "   print(capitals[k],\" is the capital of \", k)"
   ]
  },
  {
   "cell_type": "markdown",
   "metadata": {
    "button": false,
    "deletable": true,
    "new_sheet": false,
    "run_control": {
     "read_only": false
    }
   },
   "source": [
    "| **Operator** | **Use** | **Explanation** |\n",
    "| --- | --- | --- |\n",
    "| ` [] ` | ` myDict[k] ` | Returns the value associated with ` k `, otherwise its an error |\n",
    "| ` in ` | ` key in adict ` | Returns ` True ` if key is in the dictionary, ` False ` otherwise |\n",
    "| ` del ` | del ` adict[key] ` | Removes the entry from the dictionary |\n"
   ]
  },
  {
   "cell_type": "markdown",
   "metadata": {
    "button": false,
    "deletable": true,
    "new_sheet": false,
    "run_control": {
     "read_only": false
    }
   },
   "source": [
    "| **Method Name** | **Use** | **Explanation** |\n",
    "| --- | --- | --- |\n",
    "| ` keys ` | ` adict.keys() ` | Returns the keys of the dictionary in a dict_keys object |\n",
    "| ` values ` | ` adict.values() ` | Returns the values of the dictionary in a dict_values object |\n",
    "| ` items ` | ` adict.items() ` | Returns the key-value pairs in a dict_items object |\n",
    "| ` get ` | ` adict.get(k) ` | Returns the value associated with ` k `, ` None ` otherwise |\n",
    "| ` get ` | ` adict.get(k,alt) ` | Returns the value associated with ` k `, ` alt ` otherwise |"
   ]
  },
  {
   "cell_type": "code",
   "execution_count": null,
   "metadata": {
    "button": false,
    "collapsed": false,
    "deletable": true,
    "new_sheet": false,
    "run_control": {
     "read_only": false
    }
   },
   "outputs": [],
   "source": [
    "phoneext={'david':1410,'brad':1137}\n",
    "print(phoneext)\n",
    "print(phoneext.keys())\n",
    "print(list(phoneext.keys()))\n",
    "print(phoneext.values())\n",
    "print(list(phoneext.values()))\n",
    "print(phoneext.items())\n",
    "print(list(phoneext.items()))\n",
    "print(phoneext.get(\"kent\"))\n",
    "print(phoneext.get(\"kent\",\"NO ENTRY\"))\n"
   ]
  },
  {
   "cell_type": "markdown",
   "metadata": {
    "button": false,
    "deletable": true,
    "new_sheet": false,
    "run_control": {
     "read_only": false
    }
   },
   "source": [
    "## 1.9. Input and Output"
   ]
  },
  {
   "cell_type": "code",
   "execution_count": null,
   "metadata": {
    "button": false,
    "collapsed": false,
    "deletable": true,
    "new_sheet": false,
    "run_control": {
     "read_only": false
    }
   },
   "outputs": [],
   "source": [
    "aName = input(\"Please enter your name \")\n",
    "print(\"Your name in all capitals is\",aName.upper(),\n",
    "      \"and has length\", len(aName))"
   ]
  },
  {
   "cell_type": "code",
   "execution_count": null,
   "metadata": {
    "button": false,
    "collapsed": false,
    "deletable": true,
    "new_sheet": false,
    "run_control": {
     "read_only": false
    }
   },
   "outputs": [],
   "source": [
    "sradius = input(\"Please enter the radius of the circle \")\n",
    "radius = float(sradius)\n",
    "diameter = 2 * radius\n",
    "print(diameter)"
   ]
  },
  {
   "cell_type": "markdown",
   "metadata": {
    "button": false,
    "deletable": true,
    "new_sheet": false,
    "run_control": {
     "read_only": false
    }
   },
   "source": [
    "### 1.9.1. String Formatting"
   ]
  },
  {
   "cell_type": "code",
   "execution_count": null,
   "metadata": {
    "button": false,
    "collapsed": false,
    "deletable": true,
    "new_sheet": false,
    "run_control": {
     "read_only": false
    }
   },
   "outputs": [],
   "source": [
    "print(\"Hello\",\"World\")\n",
    "print(\"Hello\",\"World\", sep=\"***\")\n",
    "print(\"Hello\",\"World\", end=\"***\")"
   ]
  },
  {
   "cell_type": "code",
   "execution_count": null,
   "metadata": {
    "button": false,
    "collapsed": false,
    "deletable": true,
    "new_sheet": false,
    "run_control": {
     "read_only": false
    }
   },
   "outputs": [],
   "source": [
    "aName = \"Anas\"\n",
    "age = 10\n",
    "print(aName, \"is\", age, \"years old.\")\n",
    "print(\"%s is %d years old.\" % (aName, age)) # The % operator is a string operator called the format operator."
   ]
  },
  {
   "cell_type": "markdown",
   "metadata": {
    "button": false,
    "deletable": true,
    "new_sheet": false,
    "run_control": {
     "read_only": false
    }
   },
   "source": [
    "| **Character** | **Output Format** |\n",
    "| --- | --- |\n",
    "| ` d `, ` i ` | Integer |\n",
    "| ` u ` | Unsigned integer |\n",
    "| ` f ` | Floating point as m.ddddd |\n",
    "| ` e ` | Floating point as m.ddddde+/-xx |\n",
    "| ` E ` | Floating point as m.dddddE+/-xx |\n",
    "| ` g ` | Use ` %e ` for exponents less than <span class=\"math\"><span class=\"MathJax_Preview\" style=\"color: inherit; display: none;\"> <span class=\"MathJax\" id=\"MathJax-Element-1-Frame\" tabindex=\"0\" data-mathml=\"<math xmlns=&quot;http://www.w3.org/1998/Math/MathML&quot;><nobr aria-hidden=\"true\"><span class=\"math\" id=\"MathJax-Span-1\" style=\"width: 1.432em; display: inline-block;\"><span style=\"display: inline-block; position: relative; width: 1.193em; height: 0px; font-size: 120%;\"><span style=\"position: absolute; clip: rect(1.729em 1001.19em 2.86em -999.997em); top: -2.557em; left: 0em;\"><span class=\"mrow\" id=\"MathJax-Span-2\"><span class=\"mo\" id=\"MathJax-Span-3\" style=\"font-family: STIXGeneral-Regular;\">− <span class=\"mn\" id=\"MathJax-Span-4\" style=\"font-family: STIXGeneral-Regular;\">4 <span style=\"display: inline-block; width: 0px; height: 2.562em;\"> <span style=\"display: inline-block; overflow: hidden; vertical-align: -0.211em; border-left: 0px solid; width: 0px; height: 1.146em;\"> </nobr><span class=\"MJX_Assistive_MathML\" role=\"presentation\"><math xmlns=\"http://www.w3.org/1998/Math/MathML\"><mo>−</mo><mn>4</mn></math> <mo>&amp;#x2212;</mo><mn>4</mn></math>\" role=\"presentation\" style=\"position: relative;\"> <script type=\"math/tex\" id=\"MathJax-Element-1\">-4</script> or greater than <span class=\"math\"><span class=\"MathJax_Preview\" style=\"color: inherit; display: none;\"> <span class=\"MathJax\" id=\"MathJax-Element-2-Frame\" tabindex=\"0\" data-mathml=\"<math xmlns=&quot;http://www.w3.org/1998/Math/MathML&quot;><nobr aria-hidden=\"true\"><span class=\"math\" id=\"MathJax-Span-5\" style=\"width: 1.432em; display: inline-block;\"><span style=\"display: inline-block; position: relative; width: 1.193em; height: 0px; font-size: 120%;\"><span style=\"position: absolute; clip: rect(1.67em 1001.13em 2.801em -999.997em); top: -2.557em; left: 0em;\"><span class=\"mrow\" id=\"MathJax-Span-6\"><span class=\"mo\" id=\"MathJax-Span-7\" style=\"font-family: STIXGeneral-Regular;\">+ <span class=\"mn\" id=\"MathJax-Span-8\" style=\"font-family: STIXGeneral-Regular;\">5 <span style=\"display: inline-block; width: 0px; height: 2.562em;\"> <span style=\"display: inline-block; overflow: hidden; vertical-align: -0.139em; border-left: 0px solid; width: 0px; height: 1.004em;\"> </nobr><span class=\"MJX_Assistive_MathML\" role=\"presentation\"><math xmlns=\"http://www.w3.org/1998/Math/MathML\"><mo>+</mo><mn>5</mn></math> <mo>+</mo><mn>5</mn></math>\" role=\"presentation\" style=\"position: relative;\"> <script type=\"math/tex\" id=\"MathJax-Element-2\">+5</script> , otherwise use ` %f ` |\n",
    "| ` c ` | Single character |\n",
    "| ` s ` | String, or any Python data object that can be converted to a string by using the ` str ` function. |\n",
    "| ` % ` | Insert a literal % character |"
   ]
  },
  {
   "cell_type": "markdown",
   "metadata": {
    "button": false,
    "deletable": true,
    "new_sheet": false,
    "run_control": {
     "read_only": false
    }
   },
   "source": [
    "| **Modifier** | **Example** | **Description** |\n",
    "| --- | --- | --- |\n",
    "| number | ` %20d ` | Put the value in a field width of 20 |\n",
    "| ` - ` | ` %-20d ` | Put the value in a field 20 characters wide, left-justified |\n",
    "| ` + ` | ` %+20d ` | Put the value in a field 20 characters wide, right-justified |\n",
    "| ` 0 ` | ` %020d ` | Put the value in a field 20 characters wide, fill in with leading zeros. |\n",
    "| ` . ` | ` %20.2f ` | Put the value in a field 20 characters wide with 2 characters to the right of the decimal point. |\n",
    "| ` (name) ` | ` %(name)d ` | Get the value from the supplied dictionary using ` name ` as the key. "
   ]
  },
  {
   "cell_type": "code",
   "execution_count": null,
   "metadata": {
    "button": false,
    "collapsed": false,
    "deletable": true,
    "new_sheet": false,
    "run_control": {
     "read_only": false
    }
   },
   "outputs": [],
   "source": [
    "price = 24\n",
    "item = \"banana\"\n",
    "print(\"The %s costs %d cents\"%(item,price))\n",
    "print(\"The %+10s costs %5.2f cents\"%(item,price))\n",
    "print(\"The %+10s costs %10.2f cents\"%(item,price))\n",
    "itemdict = {\"item\":\"banana\",\"cost\":24}\n",
    "print(\"The %(item)s costs %(cost)7.1f cents\"%itemdict)\n"
   ]
  },
  {
   "cell_type": "markdown",
   "metadata": {
    "button": false,
    "deletable": true,
    "new_sheet": false,
    "run_control": {
     "read_only": false
    }
   },
   "source": [
    "## 1.10. Control Structures"
   ]
  },
  {
   "cell_type": "markdown",
   "metadata": {
    "button": false,
    "deletable": true,
    "new_sheet": false,
    "run_control": {
     "read_only": false
    }
   },
   "source": [
    "** algorithms require two important control structures: iteration and selection. **"
   ]
  },
  {
   "cell_type": "markdown",
   "metadata": {
    "button": false,
    "deletable": true,
    "new_sheet": false,
    "run_control": {
     "read_only": false
    }
   },
   "source": [
    "#### - Iteration \n",
    "#### 1. While"
   ]
  },
  {
   "cell_type": "code",
   "execution_count": null,
   "metadata": {
    "button": false,
    "collapsed": false,
    "deletable": true,
    "new_sheet": false,
    "run_control": {
     "read_only": false
    }
   },
   "outputs": [],
   "source": [
    "counter = 1\n",
    "while counter <= 5:\n",
    "   print(\"Hello, world\")\n",
    "   counter = counter + 1"
   ]
  },
  {
   "cell_type": "markdown",
   "metadata": {
    "button": false,
    "deletable": true,
    "new_sheet": false,
    "run_control": {
     "read_only": false
    }
   },
   "source": [
    "#### 2. for"
   ]
  },
  {
   "cell_type": "code",
   "execution_count": null,
   "metadata": {
    "button": false,
    "collapsed": false,
    "deletable": true,
    "new_sheet": false,
    "run_control": {
     "read_only": false
    }
   },
   "outputs": [],
   "source": [
    "for item in [1,3,6,2,5]:\n",
    "    print(item)"
   ]
  },
  {
   "cell_type": "code",
   "execution_count": null,
   "metadata": {
    "button": false,
    "collapsed": false,
    "deletable": true,
    "new_sheet": false,
    "run_control": {
     "read_only": false
    }
   },
   "outputs": [],
   "source": [
    "for item in range(5):\n",
    "...    print(item**2)"
   ]
  },
  {
   "cell_type": "code",
   "execution_count": null,
   "metadata": {
    "button": false,
    "collapsed": false,
    "deletable": true,
    "new_sheet": false,
    "run_control": {
     "read_only": false
    }
   },
   "outputs": [],
   "source": [
    "wordlist = ['cat','dog','rabbit']\n",
    "letterlist = [ ]\n",
    "for aword in wordlist:\n",
    "    for aletter in aword:\n",
    "        if(aletter not in letterlist):\n",
    "            letterlist.append(aletter)\n",
    "print(letterlist)"
   ]
  },
  {
   "cell_type": "markdown",
   "metadata": {
    "button": false,
    "deletable": true,
    "new_sheet": false,
    "run_control": {
     "read_only": false
    }
   },
   "source": [
    "### list comprehension"
   ]
  },
  {
   "cell_type": "code",
   "execution_count": null,
   "metadata": {
    "button": false,
    "collapsed": false,
    "deletable": true,
    "new_sheet": false,
    "run_control": {
     "read_only": false
    }
   },
   "outputs": [],
   "source": [
    "sqlist=[]\n",
    "for x in range(1,11):\n",
    "         sqlist.append(x*x)\n",
    "print(sqlist)        \n",
    "\n",
    "sqlist2=[x*x for x in range(1,11)] # list comprehension\n",
    "print(sqlist2)"
   ]
  },
  {
   "cell_type": "code",
   "execution_count": null,
   "metadata": {
    "button": false,
    "collapsed": false,
    "deletable": true,
    "new_sheet": false,
    "run_control": {
     "read_only": false
    }
   },
   "outputs": [],
   "source": [
    "sqlist=[x*x for x in range(1,11) if x%2 != 0]\n",
    "print(sqlist)"
   ]
  },
  {
   "cell_type": "code",
   "execution_count": null,
   "metadata": {
    "button": false,
    "collapsed": false,
    "deletable": true,
    "new_sheet": false,
    "run_control": {
     "read_only": false
    }
   },
   "outputs": [],
   "source": [
    "[ch.upper() for ch in 'comprehension' if ch not in 'aeiou']"
   ]
  },
  {
   "cell_type": "code",
   "execution_count": null,
   "metadata": {
    "button": false,
    "collapsed": false,
    "deletable": true,
    "new_sheet": false,
    "run_control": {
     "read_only": false
    }
   },
   "outputs": [],
   "source": [
    "wordlist = ['cat','dog','rabbit']\n",
    "\n",
    "uniqueLetters = [letter for word in wordlist for letter in word]\n",
    "print(uniqueLetters)"
   ]
  },
  {
   "cell_type": "markdown",
   "metadata": {
    "button": false,
    "deletable": true,
    "new_sheet": false,
    "run_control": {
     "read_only": false
    }
   },
   "source": [
    "## 1.12. Defining Functions"
   ]
  },
  {
   "cell_type": "markdown",
   "metadata": {
    "button": false,
    "deletable": true,
    "new_sheet": false,
    "run_control": {
     "read_only": false
    }
   },
   "source": [
    "#### problem \n",
    "Here’s a self check that really covers everything so far. You may have heard of the infinite monkey theorem? The theorem states that a monkey hitting keys at random on a typewriter keyboard for an infinite amount of time will almost surely type a given text, such as the complete works of William Shakespeare. Well, suppose we replace a monkey with a Python function. How long do you think it would take for a Python function to generate just one sentence of Shakespeare? The sentence we’ll shoot for is: “methinks it is like a weasel”\n",
    "\n",
    "You’re not going to want to run this one in the browser, so fire up your favorite Python IDE. The way we’ll simulate this is to write a function that generates a string that is 27 characters long by choosing random letters from the 26 letters in the alphabet plus the space. We’ll write another function that will score each generated string by comparing the randomly generated string to the goal.\n",
    "\n",
    "A third function will repeatedly call generate and score, then if 100% of the letters are correct we are done. If the letters are not correct then we will generate a whole new string.To make it easier to follow your program’s progress this third function should print out the best string generated so far and its score every 1000 tries."
   ]
  },
  {
   "cell_type": "code",
   "execution_count": null,
   "metadata": {
    "button": false,
    "collapsed": false,
    "deletable": true,
    "new_sheet": false,
    "run_control": {
     "read_only": false
    }
   },
   "outputs": [],
   "source": [
    "import string\n",
    "import random\n",
    "import time\n",
    "\n",
    "start_time = time.time()\n",
    "\n",
    "def generate_new_sentense():\n",
    "    sentense = [random.choice(string.ascii_lowercase + \" \") for x in range(28) ]\n",
    "    return \"\".join(sentense)\n",
    "\n",
    "def compare_sentences(guess):\n",
    "    target_sentence = \"methinks it is like a weasel\"\n",
    "    return guess == target_sentence\n",
    "\n",
    "def main():\n",
    "    i= 0\n",
    "    print (i)\n",
    "    guess = generate_new_sentense()\n",
    "    print (guess)\n",
    "    while not compare_sentences(guess):\n",
    "        guess = generate_new_sentense()\n",
    "        print (guess)\n",
    "        i+= 1\n",
    "        print (i)\n",
    "# main()\n",
    "\n",
    "print(\"--- %s seconds ---\" % (time.time() - start_time))"
   ]
  },
  {
   "cell_type": "markdown",
   "metadata": {
    "button": false,
    "deletable": true,
    "new_sheet": false,
    "run_control": {
     "read_only": false
    }
   },
   "source": [
    "## 1.13. Object-Oriented Programming in Python: Defining Classes"
   ]
  },
  {
   "cell_type": "markdown",
   "metadata": {
    "button": false,
    "deletable": true,
    "new_sheet": false,
    "run_control": {
     "read_only": false
    }
   },
   "source": [
    "### 1.13.1. A Fraction Class"
   ]
  },
  {
   "cell_type": "code",
   "execution_count": null,
   "metadata": {
    "button": false,
    "collapsed": false,
    "deletable": true,
    "new_sheet": false,
    "run_control": {
     "read_only": false
    }
   },
   "outputs": [],
   "source": [
    "class Fraction:\n",
    "    \n",
    "    def __init__(self, top, bottom):\n",
    "        self.num = top\n",
    "        self.den = bottom\n",
    "\n",
    "    def show(self):\n",
    "     print(self.num,\"/\",self.den)\n",
    "    \n",
    "    # Overriding the default __str__ function\n",
    "    def __str__(self):\n",
    "        return str(self.num)+\"/\"+str(self.den)\n",
    "    \n",
    "    def __add__(self,otherfraction):\n",
    "\n",
    "     newnum = self.num*otherfraction.den + self.den*otherfraction.num\n",
    "     newden = self.den * otherfraction.den\n",
    "\n",
    "     return Fraction(newnum,newden)\n",
    "        \n",
    "myfraction = Fraction(3,5)\n",
    "print(myfraction)\n",
    "print(myfraction.show())\n",
    "f1=Fraction(1,4)\n",
    "f2=Fraction(1,2)\n",
    "f3=f1+f2\n",
    "print(f3)\n",
    "    "
   ]
  },
  {
   "cell_type": "markdown",
   "metadata": {
    "button": false,
    "deletable": true,
    "new_sheet": false,
    "run_control": {
     "read_only": false
    }
   },
   "source": [
    "### 1.13.2. Inheritance: Logic Gates and Circuits"
   ]
  },
  {
   "cell_type": "code",
   "execution_count": null,
   "metadata": {
    "button": false,
    "collapsed": false,
    "deletable": true,
    "new_sheet": false,
    "run_control": {
     "read_only": false
    }
   },
   "outputs": [],
   "source": [
    "class LogicGate:\n",
    "\n",
    "    def __init__(self,n):\n",
    "        self.name = n\n",
    "        self.output = None\n",
    "\n",
    "    def getName(self):\n",
    "        return self.name\n",
    "\n",
    "    def getOutput(self):\n",
    "        self.output = self.performGateLogic()\n",
    "        return self.output\n",
    "\n",
    "\n",
    "class BinaryGate(LogicGate):\n",
    "\n",
    "    def __init__(self,n):\n",
    "        LogicGate.__init__(self,n)\n",
    "\n",
    "        self.pinA = None\n",
    "        self.pinB = None\n",
    "\n",
    "    def getPinA(self):\n",
    "        if self.pinA == None:\n",
    "            return int(input(\"Enter Pin A input for gate \"+self.getName()+\"-->\"))\n",
    "        else:\n",
    "            return self.pinA.getFrom().getOutput()\n",
    "\n",
    "    def getPinB(self):\n",
    "        if self.pinB == None:\n",
    "            return int(input(\"Enter Pin B input for gate \"+self.getName()+\"-->\"))\n",
    "        else:\n",
    "            return self.pinB.getFrom().getOutput()\n",
    "\n",
    "    def setNextPin(self,source):\n",
    "        if self.pinA == None:\n",
    "            self.pinA = source\n",
    "        else:\n",
    "            if self.pinB == None:\n",
    "                self.pinB = source\n",
    "            else:\n",
    "                print(\"Cannot Connect: NO EMPTY PINS on this gate\")\n",
    "\n",
    "\n",
    "class AndGate(BinaryGate):\n",
    "\n",
    "    def __init__(self,n):\n",
    "        BinaryGate.__init__(self,n)\n",
    "\n",
    "    def performGateLogic(self):\n",
    "\n",
    "        a = self.getPinA()\n",
    "        b = self.getPinB()\n",
    "        if a==1 and b==1:\n",
    "            return 1\n",
    "        else:\n",
    "            return 0\n",
    "\n",
    "class OrGate(BinaryGate):\n",
    "\n",
    "    def __init__(self,n):\n",
    "        BinaryGate.__init__(self,n)\n",
    "\n",
    "    def performGateLogic(self):\n",
    "\n",
    "        a = self.getPinA()\n",
    "        b = self.getPinB()\n",
    "        if a ==1 or b==1:\n",
    "            return 1\n",
    "        else:\n",
    "            return 0\n",
    "\n",
    "class UnaryGate(LogicGate):\n",
    "\n",
    "    def __init__(self,n):\n",
    "        LogicGate.__init__(self,n)\n",
    "\n",
    "        self.pin = None\n",
    "\n",
    "    def getPin(self):\n",
    "        if self.pin == None:\n",
    "            return int(input(\"Enter Pin input for gate \"+self.getName()+\"-->\"))\n",
    "        else:\n",
    "            return self.pin.getFrom().getOutput()\n",
    "\n",
    "    def setNextPin(self,source):\n",
    "        if self.pin == None:\n",
    "            self.pin = source\n",
    "        else:\n",
    "            print(\"Cannot Connect: NO EMPTY PINS on this gate\")\n",
    "\n",
    "\n",
    "class NotGate(UnaryGate):\n",
    "\n",
    "    def __init__(self,n):\n",
    "        UnaryGate.__init__(self,n)\n",
    "\n",
    "    def performGateLogic(self):\n",
    "        if self.getPin():\n",
    "            return 0\n",
    "        else:\n",
    "            return 1\n",
    "\n",
    "\n",
    "class Connector:\n",
    "\n",
    "    def __init__(self, fgate, tgate):\n",
    "        self.fromgate = fgate\n",
    "        self.togate = tgate\n",
    "\n",
    "        tgate.setNextPin(self)\n",
    "\n",
    "    def getFrom(self):\n",
    "        return self.fromgate\n",
    "\n",
    "    def getTo(self):\n",
    "        return self.togate\n",
    "\n",
    "\n",
    "def main():\n",
    "   g1 = AndGate(\"G1\")\n",
    "   g2 = AndGate(\"G2\")\n",
    "   g3 = OrGate(\"G3\")\n",
    "   g4 = NotGate(\"G4\")\n",
    "   c1 = Connector(g1,g3)\n",
    "   c2 = Connector(g2,g3)\n",
    "   c3 = Connector(g3,g4)\n",
    "   print(g4.getOutput())\n",
    "\n",
    "main()\n"
   ]
  },
  {
   "cell_type": "markdown",
   "metadata": {
    "button": false,
    "deletable": true,
    "new_sheet": false,
    "run_control": {
     "read_only": false
    }
   },
   "source": [
    "# 2. Algorithm Analysis"
   ]
  },
  {
   "cell_type": "markdown",
   "metadata": {
    "button": false,
    "deletable": true,
    "new_sheet": false,
    "run_control": {
     "read_only": false
    }
   },
   "source": [
    "## 2.2. What Is Algorithm Analysis?"
   ]
  },
  {
   "cell_type": "code",
   "execution_count": null,
   "metadata": {
    "button": false,
    "collapsed": false,
    "deletable": true,
    "new_sheet": false,
    "run_control": {
     "read_only": false
    }
   },
   "outputs": [],
   "source": [
    "def sumOfN(n):\n",
    "   start = time.time()\n",
    "\n",
    "   theSum = 0\n",
    "   for i in range(1,n+1):\n",
    "      theSum = theSum + i\n",
    "\n",
    "   end = time.time()\n",
    "\n",
    "   return theSum,end-start\n",
    "\n",
    "for i in range(5):\n",
    "       print(\"Sum is %d required %10.7f seconds\"%sumOfN(1000000))"
   ]
  },
  {
   "cell_type": "markdown",
   "metadata": {
    "button": false,
    "deletable": true,
    "new_sheet": false,
    "run_control": {
     "read_only": false
    }
   },
   "source": [
    "## 2.3. Big-O Notation"
   ]
  },
  {
   "cell_type": "markdown",
   "metadata": {
    "button": false,
    "collapsed": true,
    "deletable": true,
    "new_sheet": false,
    "run_control": {
     "read_only": false
    }
   },
   "source": [
    "**  The order of magnitude function describes the part of T(n) that increases the fastest as the value of n increases. Order of magnitude is often called Big-O notation (for “order”) and written as O(f(n)).**"
   ]
  },
  {
   "cell_type": "markdown",
   "metadata": {
    "button": false,
    "deletable": true,
    "new_sheet": false,
    "run_control": {
     "read_only": false
    }
   },
   "source": [
    "** It provides a useful approximation to the actual number of steps in the computation. The function f(n) provides a simple representation of the dominant part of the original T(n).**"
   ]
  },
  {
   "cell_type": "markdown",
   "metadata": {
    "button": false,
    "deletable": true,
    "new_sheet": false,
    "run_control": {
     "read_only": false
    }
   },
   "source": [
    "- The parameter n is often referred to as the “size of the problem,” and we can read this as “T(n) is the time it takes to solve a problem of size n” "
   ]
  },
  {
   "cell_type": "markdown",
   "metadata": {
    "button": false,
    "deletable": true,
    "new_sheet": false,
    "run_control": {
     "read_only": false
    }
   },
   "source": [
    "As another example, suppose that for some algorithm, the exact number of steps is\n",
    "\n",
    "**T(n)=5nˆ2+27n+1005**\n",
    "\n",
    "When n is small, say 1 or 2, the constant 1005 seems to be the dominant part of the function. However, as n gets larger, the nˆ2 term becomes the most important.\n",
    "\n",
    "In fact, when n is really large, the other two terms become insignificant in the role that they play in determining the final result\n",
    "\n",
    "Again, to approximate T(n) as n gets large, we can ignore the other terms and focus on 5nˆ2.\n",
    "\n",
    "In addition, the coefficient 5 becomes insignificant as n gets large. \n",
    "\n",
    "We would say then that the function T(n) has an order of magnitude **f(n)=n2**, or simply that it is **O(n2)**."
   ]
  },
  {
   "cell_type": "markdown",
   "metadata": {
    "button": false,
    "deletable": true,
    "new_sheet": false,
    "run_control": {
     "read_only": false
    }
   },
   "source": [
    "- Although we do not see this in the summation example, sometimes the performance of an algorithm depends on the exact values of the data rather than simply the size of the problem.\n",
    "- For these kinds of algorithms we need to characterize their performance in terms of **best case**, **worst case**, or **average case** performance. \n",
    "- The worst case performance refers to a particular data set where the algorithm performs especially poorly. Whereas a different data set for the exact same algorithm might have extraordinarily good performance. However, in most cases the algorithm performs somewhere in between these two extremes (average case). It is important for a computer scientist to understand these distinctions so they are not misled by one particular case."
   ]
  },
  {
   "cell_type": "markdown",
   "metadata": {
    "button": false,
    "deletable": true,
    "new_sheet": false,
    "run_control": {
     "read_only": false
    }
   },
   "source": [
    "- ** A number of very common order of magnitude functions will come up over and over as you study algorithms **"
   ]
  },
  {
   "cell_type": "markdown",
   "metadata": {
    "button": false,
    "deletable": true,
    "new_sheet": false,
    "run_control": {
     "read_only": false
    }
   },
   "source": [
    "| **f(n)** | **Name** |\n",
    "| --- | --- |\n",
    "| 1 | Constant |\n",
    "| log⁡ n | Logarithmic |\n",
    "|n|Linear|\n",
    "|n log n|Log Linear|\n",
    "|nˆ2|Quadratic|\n",
    "|nˆ3|Cubic|\n",
    "|2ˆn|Exponential|"
   ]
  },
  {
   "cell_type": "code",
   "execution_count": null,
   "metadata": {
    "button": false,
    "collapsed": false,
    "deletable": true,
    "new_sheet": false,
    "run_control": {
     "read_only": false
    }
   },
   "outputs": [],
   "source": [
    "# import matplotlib.pyplot as plt\n",
    "# import math\n",
    "# \n",
    "# n = 50\n",
    "# \n",
    "# x = list(range(1,n))\n",
    "# \n",
    "# linear = [x for x in range(1, n)]\n",
    "# Quadratic = [x**2 for x in range(1, n)]\n",
    "# LogLinear = [x * math.log(x) for x in range(1, n)]\n",
    "# Cubic = [x**3 for x in range(1, n)]\n",
    "# Exponential = [2**x for x in range(1, n)]\n",
    "# logarithmic = [math.log(x) for x in range(1, n)]\n",
    "# \n",
    "# plt.plot(x, linear,'k--', label='linear')\n",
    "# plt.plot(x, Quadratic, 'k:', label='Quadratic')\n",
    "# plt.plot(LogLinear, x,  'y', label='LogLinear')\n",
    "# plt.plot(Cubic, x,  'b', label='Cubic')\n",
    "# plt.plot(Exponential, x,  'r', label='Exponential')\n",
    "# plt.plot(logarithmic, x,  'g', label='logarithmic')\n",
    "#     \n",
    "# legend = plt.legend(shadow=True)\n",
    "# \n",
    "# plt.grid(True)\n",
    "# plt.show()"
   ]
  },
  {
   "cell_type": "code",
   "execution_count": 1,
   "metadata": {
    "button": false,
    "collapsed": false,
    "deletable": true,
    "new_sheet": false,
    "run_control": {
     "read_only": false
    }
   },
   "outputs": [
    {
     "ename": "NameError",
     "evalue": "name 'n' is not defined",
     "output_type": "error",
     "traceback": [
      "\u001b[0;31m---------------------------------------------------------------------------\u001b[0m",
      "\u001b[0;31mNameError\u001b[0m                                 Traceback (most recent call last)",
      "\u001b[0;32m<ipython-input-1-6b28947f7f99>\u001b[0m in \u001b[0;36m<module>\u001b[0;34m()\u001b[0m\n\u001b[1;32m      2\u001b[0m \u001b[0mb\u001b[0m\u001b[0;34m=\u001b[0m\u001b[0;36m6\u001b[0m\u001b[0;34m\u001b[0m\u001b[0m\n\u001b[1;32m      3\u001b[0m \u001b[0mc\u001b[0m\u001b[0;34m=\u001b[0m\u001b[0;36m10\u001b[0m\u001b[0;34m\u001b[0m\u001b[0m\n\u001b[0;32m----> 4\u001b[0;31m \u001b[0;32mfor\u001b[0m \u001b[0mi\u001b[0m \u001b[0;32min\u001b[0m \u001b[0mrange\u001b[0m\u001b[0;34m(\u001b[0m\u001b[0mn\u001b[0m\u001b[0;34m)\u001b[0m\u001b[0;34m:\u001b[0m\u001b[0;34m\u001b[0m\u001b[0m\n\u001b[0m\u001b[1;32m      5\u001b[0m    \u001b[0;32mfor\u001b[0m \u001b[0mj\u001b[0m \u001b[0;32min\u001b[0m \u001b[0mrange\u001b[0m\u001b[0;34m(\u001b[0m\u001b[0mn\u001b[0m\u001b[0;34m)\u001b[0m\u001b[0;34m:\u001b[0m\u001b[0;34m\u001b[0m\u001b[0m\n\u001b[1;32m      6\u001b[0m       \u001b[0mx\u001b[0m \u001b[0;34m=\u001b[0m \u001b[0mi\u001b[0m \u001b[0;34m*\u001b[0m \u001b[0mi\u001b[0m\u001b[0;34m\u001b[0m\u001b[0m\n",
      "\u001b[0;31mNameError\u001b[0m: name 'n' is not defined"
     ]
    }
   ],
   "source": [
    "a=5\n",
    "b=6\n",
    "c=10\n",
    "for i in range(n):\n",
    "   for j in range(n):\n",
    "      x = i * i\n",
    "      y = j * j\n",
    "      z = i * j\n",
    "for k in range(n):\n",
    "   w = a*k + 45\n",
    "   v = b*b\n",
    "d = 33"
   ]
  },
  {
   "cell_type": "markdown",
   "metadata": {
    "button": false,
    "deletable": true,
    "new_sheet": false,
    "run_control": {
     "read_only": false
    }
   },
   "source": [
    "The number of assignment operations is the sum of four terms.\n",
    "- The first term is the constant 3, representing the three assignment statements at the start of the fragment. \n",
    "- The second term is 3nˆ2, since there are three statements that are performed nˆ2 times due to the nested iteration.\n",
    "- The third term is 2n, two statements iterated n times. \n",
    "- Finally, the fourth term is the constant 1, representing the final assignment statement. \n",
    "\n",
    "** This gives us T(n)=3+3n2+2n+1=3nˆ2+2n+4.**\n",
    "- By looking at the exponents, we can easily see that the n2 term will be dominant and therefore this fragment of code is **O(n2)**. \n",
    "- Note that all of the other terms as well as the coefficient on the dominant term can be ignored as n grows larger."
   ]
  },
  {
   "cell_type": "markdown",
   "metadata": {
    "button": false,
    "collapsed": true,
    "deletable": true,
    "new_sheet": false,
    "run_control": {
     "read_only": false
    }
   },
   "source": [
    "## 2.6. Lists"
   ]
  },
  {
   "cell_type": "code",
   "execution_count": 8,
   "metadata": {
    "button": false,
    "collapsed": false,
    "deletable": true,
    "new_sheet": false,
    "run_control": {
     "read_only": false
    }
   },
   "outputs": [
    {
     "name": "stdout",
     "output_type": "stream",
     "text": [
      "concat  1.7699696729996504 milliseconds\n",
      "append  0.13472631799959345 milliseconds\n",
      "comprehension  0.06414369599951897 milliseconds\n",
      "list range  0.027503831001013168 milliseconds\n"
     ]
    }
   ],
   "source": [
    "import timeit\n",
    "\n",
    "def test1():\n",
    "    l = []\n",
    "    for i in range(1000):\n",
    "        l = l + [i]\n",
    "\n",
    "def test2():\n",
    "    l = []\n",
    "    for i in range(1000):\n",
    "        l.append(i)\n",
    "\n",
    "def test3():\n",
    "    l = [i for i in range(1000)]\n",
    "\n",
    "def test4():\n",
    "    l = list(range(1000))\n",
    "\n",
    "t1 = timeit.Timer(\"test1()\", \"from __main__ import test1\")\n",
    "print(\"concat \",t1.timeit(number=1000), \"milliseconds\")\n",
    "t2 = timeit.Timer(\"test2()\", \"from __main__ import test2\")\n",
    "print(\"append \",t2.timeit(number=1000), \"milliseconds\")\n",
    "t3 = timeit.Timer(\"test3()\", \"from __main__ import test3\")\n",
    "print(\"comprehension \",t3.timeit(number=1000), \"milliseconds\")\n",
    "t4 = timeit.Timer(\"test4()\", \"from __main__ import test4\")\n",
    "print(\"list range \",t4.timeit(number=1000), \"milliseconds\")\n",
    "    \n",
    "    "
   ]
  },
  {
   "cell_type": "markdown",
   "metadata": {
    "button": false,
    "deletable": true,
    "new_sheet": false,
    "run_control": {
     "read_only": false
    }
   },
   "source": [
    "### Big-O efficiency of all the basic list operations.\n",
    "\n",
    "| Operation | Big-O Efficiency |\n",
    "| --- | --- |\n",
    "| index [] | O(1) |\n",
    "| index assignment | O(1) |\n",
    "| append | O(1) |\n",
    "| pop() | O(1) |\n",
    "| pop(i) | O(n) |\n",
    "| insert(i,item) | O(n) |\n",
    "| del operator | O(n) |\n",
    "| iteration | O(n) |\n",
    "| contains (in) | O(n) |\n",
    "| get slice [x:y] | O(k) |\n",
    "| del slice | O(n) |\n",
    "| set slice | O(n+k) |\n",
    "| reverse | O(n) |\n",
    "| concatenate | O(k) |\n",
    "| sort | O(n log n) |\n",
    "| multiply | O(nk) |"
   ]
  },
  {
   "cell_type": "code",
   "execution_count": 10,
   "metadata": {
    "button": false,
    "collapsed": false,
    "deletable": true,
    "new_sheet": false,
    "run_control": {
     "read_only": false
    }
   },
   "outputs": [
    {
     "name": "stdout",
     "output_type": "stream",
     "text": [
      "2.0001414050002495\n",
      "0.0001734589986881474\n"
     ]
    }
   ],
   "source": [
    "popzero = timeit.Timer(\"x.pop(0)\",\n",
    "                       \"from __main__ import x\")\n",
    "popend = timeit.Timer(\"x.pop()\",\n",
    "                      \"from __main__ import x\")\n",
    "\n",
    "x = list(range(2000000))\n",
    "print(popzero.timeit(number=1000))\n",
    "\n",
    "x = list(range(2000000))\n",
    "print(popend.timeit(number=1000))\n"
   ]
  },
  {
   "cell_type": "markdown",
   "metadata": {
    "button": false,
    "deletable": true,
    "new_sheet": false,
    "run_control": {
     "read_only": false
    }
   },
   "source": [
    "### 2.7. Dictionaries"
   ]
  },
  {
   "cell_type": "markdown",
   "metadata": {
    "button": false,
    "deletable": true,
    "new_sheet": false,
    "run_control": {
     "read_only": false
    }
   },
   "source": [
    "| operation | Big-O Efficiency |\n",
    "| --- | --- |\n",
    "| copy | O(n) |\n",
    "| get item | O(1) |\n",
    "| set item | O(1) |\n",
    "| delete item | O(1) |\n",
    "| contains (in) | O(1) |\n",
    "| iteration | O(n) |"
   ]
  },
  {
   "cell_type": "code",
   "execution_count": 11,
   "metadata": {
    "button": false,
    "collapsed": false,
    "deletable": true,
    "new_sheet": false,
    "run_control": {
     "read_only": false
    }
   },
   "outputs": [
    {
     "name": "stdout",
     "output_type": "stream",
     "text": [
      "10000,     0.103,     0.002\n",
      "30000,     0.301,     0.002\n",
      "50000,     0.529,     0.002\n",
      "70000,     0.877,     0.003\n",
      "90000,     0.929,     0.002\n",
      "110000,     1.110,     0.002\n",
      "130000,     1.376,     0.002\n",
      "150000,     1.527,     0.002\n",
      "170000,     1.962,     0.002\n",
      "190000,     1.979,     0.002\n",
      "210000,     2.175,     0.002\n",
      "230000,     2.721,     0.005\n",
      "250000,     2.985,     0.002\n",
      "270000,     2.802,     0.002\n",
      "290000,     3.118,     0.002\n",
      "310000,     3.164,     0.002\n",
      "330000,     4.165,     0.003\n",
      "350000,     3.769,     0.002\n",
      "370000,     3.790,     0.002\n",
      "390000,     4.084,     0.002\n",
      "410000,     4.605,     0.002\n",
      "430000,     4.605,     0.002\n",
      "450000,     4.950,     0.002\n",
      "470000,     6.394,     0.002\n",
      "490000,     5.430,     0.002\n",
      "510000,     6.333,     0.003\n",
      "530000,     6.862,     0.014\n",
      "550000,     7.888,     0.005\n",
      "570000,     7.595,     0.002\n",
      "590000,     7.948,     0.003\n",
      "610000,     7.080,     0.002\n",
      "630000,     7.594,     0.002\n",
      "650000,     7.462,     0.007\n",
      "670000,    12.589,     0.002\n",
      "690000,     7.865,     0.002\n",
      "710000,     8.667,     0.003\n",
      "730000,    11.376,     0.002\n",
      "750000,     8.795,     0.004\n",
      "770000,     8.360,     0.002\n",
      "790000,    11.220,     0.003\n",
      "810000,     9.495,     0.002\n",
      "830000,     9.586,     0.002\n",
      "850000,     9.897,     0.004\n",
      "870000,     9.893,     0.002\n",
      "890000,    11.427,     0.005\n",
      "910000,    11.262,     0.002\n",
      "930000,    13.372,     0.002\n",
      "950000,    10.997,     0.002\n",
      "970000,    14.072,     0.002\n",
      "990000,    13.917,     0.002\n"
     ]
    }
   ],
   "source": [
    "import timeit\n",
    "import random\n",
    "\n",
    "for i in range(10000,1000001,20000):\n",
    "    t = timeit.Timer(\"random.randrange(%d) in x\"%i,\n",
    "                     \"from __main__ import random,x\")\n",
    "    x = list(range(i))\n",
    "    lst_time = t.timeit(number=1000)\n",
    "    x = {j:None for j in range(i)}\n",
    "    d_time = t.timeit(number=1000)\n",
    "    print(\"%d,%10.3f,%10.3f\" % (i, lst_time, d_time))"
   ]
  },
  {
   "cell_type": "markdown",
   "metadata": {
    "button": false,
    "deletable": true,
    "new_sheet": false,
    "run_control": {
     "read_only": false
    }
   },
   "source": [
    "# 3. Basic Data Structures"
   ]
  },
  {
   "cell_type": "markdown",
   "metadata": {
    "button": false,
    "collapsed": true,
    "deletable": true,
    "new_sheet": false,
    "run_control": {
     "read_only": false
    }
   },
   "source": [
    "## 3.2. What Are Linear Structures?"
   ]
  },
  {
   "cell_type": "markdown",
   "metadata": {
    "run_control": {}
   },
   "source": [
    "- Stacks, queues, deques, and lists are examples of data collections whose items are ordered depending on how they are added or removed. Once an item is added, it stays in that position relative to the other elements that came before and came after it. Collections such as these are often referred to as linear data structures.\n",
    "\n",
    "- Linear structures can be thought of as having two ends. Sometimes these ends are referred to as the “left” and the “right” or in some cases the “front” and the “rear.” You could also call them the “top” and the “bottom.” The names given to the ends are not significant.\n",
    "\n",
    "- What distinguishes one linear structure from another is the way in which items are added and removed, in particular the location where these additions and removals occur. For example, a structure might allow new items to be added at only one end. Some structures might allow items to be removed from either end."
   ]
  },
  {
   "cell_type": "markdown",
   "metadata": {
    "run_control": {}
   },
   "source": [
    "## 3.3. What is a Stack?"
   ]
  },
  {
   "cell_type": "markdown",
   "metadata": {
    "run_control": {}
   },
   "source": [
    "- A stack (sometimes called a “push-down stack”) is an ordered collection of items where the addition of new items and the removal of existing items always takes place at the same end. \n",
    "- This end is commonly referred to as the “top.” The end opposite the top is known as the “base.”\n",
    "- **LIFO, last-in first-out.**\n",
    "- Stacks are fundamentally important, as they can be **used to reverse the order of items.** The order of insertion is the reverse of the order of removal.\n"
   ]
  },
  {
   "cell_type": "markdown",
   "metadata": {
    "run_control": {}
   },
   "source": [
    "## 3.4. The Stack Abstract Data Type"
   ]
  },
  {
   "cell_type": "markdown",
   "metadata": {
    "run_control": {}
   },
   "source": [
    "#### The stack operations are given below:\n",
    "- `Stack()` creates a new stack that is empty. It needs no parameters and returns an empty stack.\n",
    "- `push(item)` adds a new item to the top of the stack. It needs the item and returns nothingpush(item) adds a new item to the top of the stack. It needs the item and returns nothing-.\n",
    "- `pop()` removes the top item from the stack. It needs no parameters and returns the item. The stack is modifiedpop() removes the top item from the stack. It needs no parameters and returns the item. The stack is modified.\n",
    "- `peek()` returns the top item from the stack but does not remove it. It needs no parameters. The stack is not modified.\n",
    "- `isEmpty()` tests to see whether the stack is empty. It needs no parameters and returns a boolean value.\n",
    "- `size()` returns the number of items on the stack. It needs no parameters and returns an integer."
   ]
  },
  {
   "cell_type": "markdown",
   "metadata": {
    "run_control": {}
   },
   "source": [
    "## 3.5. Implementing a Stack in Python"
   ]
  },
  {
   "cell_type": "code",
   "execution_count": null,
   "metadata": {
    "collapsed": true,
    "run_control": {}
   },
   "outputs": [],
   "source": []
  }
 ],
 "metadata": {
  "kernelspec": {
   "display_name": "Python 3",
   "language": "python",
   "name": "python3"
  },
  "language_info": {
   "codemirror_mode": {
    "name": "ipython",
    "version": 3
   },
   "file_extension": ".py",
   "mimetype": "text/x-python",
   "name": "python",
   "nbconvert_exporter": "python",
   "pygments_lexer": "ipython3",
   "version": "3.5.0"
  }
 },
 "nbformat": 4,
 "nbformat_minor": 0
}
